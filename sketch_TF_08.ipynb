{
 "cells": [
  {
   "cell_type": "code",
   "execution_count": 1,
   "metadata": {},
   "outputs": [],
   "source": [
    "import tensorflow as tf\n",
    "import numpy as py\n",
    "import matplotlib.pyplot as plt\n",
    "%matplotlib inline\n",
    "import pandas as pd\n",
    "from sklearn import preprocessing\n",
    "import urllib.request\n",
    "import os\n",
    "import warnings\n",
    "warnings.simplefilter(action='ignore', category=Warning)"
   ]
  },
  {
   "cell_type": "code",
   "execution_count": 2,
   "metadata": {},
   "outputs": [
    {
     "name": "stdout",
     "output_type": "stream",
     "text": [
      "datasets/titanic3.csv dataset found!\n"
     ]
    }
   ],
   "source": [
    "dataset_url='https://biostat.app.vumc.org/wiki/pub/Main/DataSets/titanic3.csv'\n",
    "dataset_dir='./datasets/'\n",
    "dataset_path='datasets/titanic3.csv'\n",
    "\n",
    "if not os.path.exists(dataset_dir):\n",
    "    os.makedirs(dataset_dir)\n",
    "if not os.path.isfile(dataset_path):\n",
    "    result=urllib.request.urlretrieve(dataset_url,dataset_path)\n",
    "    print('dataset does not exist, downloading it now:',result)\n",
    "else: print(dataset_path,'dataset found!')\n",
    "\n",
    "model_log_dir='./model_logs/'\n",
    "model_saving_dir='./model_saving/'\n",
    "model_saving_path='./model_saving/titanic.ckpt'\n",
    "\n",
    "if not os.path.exists(model_log_dir):\n",
    "    os.makedirs(model_log_dir)\n",
    "if not os.path.exists(model_saving_dir):\n",
    "    os.makedirs(model_saving_dir)\n"
   ]
  },
  {
   "cell_type": "code",
   "execution_count": 3,
   "metadata": {},
   "outputs": [
    {
     "data": {
      "text/plain": [
       "'\\ndf_selected.isnull().sum()\\ndf_selected[df_selected.isnull().values==True]\\n'"
      ]
     },
     "execution_count": 3,
     "metadata": {},
     "output_type": "execute_result"
    }
   ],
   "source": [
    "df=pd.read_csv(dataset_path)\n",
    "selected_cols=['survived','name','pclass','sex','age','sibsp','parch','fare','embarked']\n",
    "df_selected=df[selected_cols]\n",
    "\n",
    "'''\n",
    "df_selected.isnull().sum()\n",
    "df_selected[df_selected.isnull().values==True]\n",
    "'''"
   ]
  },
  {
   "cell_type": "code",
   "execution_count": 4,
   "metadata": {},
   "outputs": [],
   "source": [
    "df_selected=df_selected.sample(frac=1)\n",
    "df_selected['age']=df_selected['age'].fillna(df_selected['age'].mean())\n",
    "df_selected['fare']=df_selected['fare'].fillna(df_selected['fare'].mean())\n",
    "df_selected['embarked']=df_selected['embarked'].fillna('S')\n",
    "df_selected['embarked']=df_selected['embarked'].map({'C':0,'Q':1,'S':2}).astype(int)\n",
    "df_selected['sex']=df_selected['sex'].map({'female':0,'male':1}).astype(int)\n",
    "df_selected=df_selected.drop(['name'],axis=1)"
   ]
  },
  {
   "cell_type": "code",
   "execution_count": 5,
   "metadata": {},
   "outputs": [],
   "source": [
    "feature=df_selected.values[:,1:]\n",
    "label=df_selected.values[:,0]\n",
    "feature=preprocessing.MinMaxScaler(feature_range=(0,1)).fit_transform(feature)\n",
    "\n",
    "train_num=int(len(feature)*0.8)\n",
    "train_feature=feature[:train_num]\n",
    "train_label=label[:train_num]\n",
    "test_feature=feature[train_num:]\n",
    "test_label=label[train_num:]"
   ]
  },
  {
   "cell_type": "code",
   "execution_count": 6,
   "metadata": {},
   "outputs": [
    {
     "name": "stdout",
     "output_type": "stream",
     "text": [
      "Model: \"sequential\"\n",
      "_________________________________________________________________\n",
      " Layer (type)                Output Shape              Param #   \n",
      "=================================================================\n",
      " dense (Dense)               (None, 64)                512       \n",
      "                                                                 \n",
      " dense_1 (Dense)             (None, 32)                2080      \n",
      "                                                                 \n",
      " dense_2 (Dense)             (None, 1)                 33        \n",
      "                                                                 \n",
      "=================================================================\n",
      "Total params: 2,625\n",
      "Trainable params: 2,625\n",
      "Non-trainable params: 0\n",
      "_________________________________________________________________\n"
     ]
    },
    {
     "name": "stderr",
     "output_type": "stream",
     "text": [
      "2023-03-13 14:51:38.249674: I tensorflow/core/platform/cpu_feature_guard.cc:193] This TensorFlow binary is optimized with oneAPI Deep Neural Network Library (oneDNN) to use the following CPU instructions in performance-critical operations:  SSE4.1 SSE4.2 AVX AVX2 FMA\n",
      "To enable them in other operations, rebuild TensorFlow with the appropriate compiler flags.\n"
     ]
    }
   ],
   "source": [
    "model=tf.keras.models.Sequential()\n",
    "model.add(tf.keras.layers.Dense(units=64,input_dim=7,use_bias=True,kernel_initializer='uniform',bias_initializer='zeros',activation='relu'))\n",
    "model.add(tf.keras.layers.Dense(units=32,activation='sigmoid'))\n",
    "model.add(tf.keras.layers.Dense(units=1,activation='sigmoid'))\n",
    "model.compile(optimizer=tf.keras.optimizers.Adam(0.003),loss='binary_crossentropy',metrics=['accuracy'])\n",
    "model.summary()"
   ]
  },
  {
   "cell_type": "code",
   "execution_count": 7,
   "metadata": {},
   "outputs": [
    {
     "name": "stdout",
     "output_type": "stream",
     "text": [
      "WARNING:tensorflow:`period` argument is deprecated. Please use `save_freq` to specify the frequency in number of batches seen.\n",
      "model saving file does not exist, training and saving it now...\n"
     ]
    }
   ],
   "source": [
    "callbacks=[\n",
    "    tf.keras.callbacks.TensorBoard(log_dir=model_log_dir,histogram_freq=2),\n",
    "    tf.keras.callbacks.ModelCheckpoint(filepath=model_saving_path,save_weights_only=True,verbose=0,period=50)\n",
    "]\n",
    "if not os.path.isfile(model_saving_path+'.index'):\n",
    "    model_history=model.fit(x=train_feature,y=train_label,validation_split=0.2,epochs=50,batch_size=50,callbacks=callbacks,verbose=0)\n",
    "    print('model saving file does not exist, training and saving it now...')\n",
    "else:\n",
    "    model.load_weights(tf.train.latest_checkpoint(model_saving_dir))\n",
    "    print('model saving file found! load the weight into model...')"
   ]
  },
  {
   "cell_type": "code",
   "execution_count": 8,
   "metadata": {},
   "outputs": [
    {
     "data": {
      "image/png": "[encoded data removed]",
      "text/plain": [
       "<Figure size 640x480 with 1 Axes>"
      ]
     },
     "metadata": {},
     "output_type": "display_data"
    }
   ],
   "source": [
    "def show_train_history(model_history,train_loss,val_loss,train_acc,val_acc):\n",
    "    plt.plot(model_history.history[train_loss])\n",
    "    plt.plot(model_history.history[val_loss])\n",
    "    plt.plot(model_history.history[train_acc])\n",
    "    plt.plot(model_history.history[val_acc])\n",
    "    plt.title('train history')\n",
    "    plt.xlabel('epoch')\n",
    "    plt.legend(['train_loss','val_loss','train_acc','val_acc'],loc='upper left')\n",
    "    plt.show()\n",
    "\n",
    "show_train_history(model_history,'loss','val_loss','accuracy','val_accuracy')"
   ]
  },
  {
   "cell_type": "code",
   "execution_count": 9,
   "metadata": {},
   "outputs": [
    {
     "name": "stdout",
     "output_type": "stream",
     "text": [
      "9/9 [==============================] - 0s 1ms/step - loss: 0.4131 - accuracy: 0.8244\n"
     ]
    }
   ],
   "source": [
    "test_loss,test_acc=model.evaluate(x=test_feature,y=test_label)"
   ]
  },
  {
   "cell_type": "code",
   "execution_count": 10,
   "metadata": {},
   "outputs": [
    {
     "name": "stdout",
     "output_type": "stream",
     "text": [
      "41/41 [==============================] - 0s 786us/step\n"
     ]
    },
    {
     "data": {
      "text/html": [
       "<div>\n",
       "<style scoped>\n",
       "    .dataframe tbody tr th:only-of-type {\n",
       "        vertical-align: middle;\n",
       "    }\n",
       "\n",
       "    .dataframe tbody tr th {\n",
       "        vertical-align: top;\n",
       "    }\n",
       "\n",
       "    .dataframe thead th {\n",
       "        text-align: right;\n",
       "    }\n",
       "</style>\n",
       "<table border=\"1\" class=\"dataframe\">\n",
       "  <thead>\n",
       "    <tr style=\"text-align: right;\">\n",
       "      <th></th>\n",
       "      <th>survived</th>\n",
       "      <th>pclass</th>\n",
       "      <th>sex</th>\n",
       "      <th>age</th>\n",
       "      <th>sibsp</th>\n",
       "      <th>parch</th>\n",
       "      <th>fare</th>\n",
       "      <th>embarked</th>\n",
       "      <th>surv_probability</th>\n",
       "    </tr>\n",
       "  </thead>\n",
       "  <tbody>\n",
       "    <tr>\n",
       "      <th>685</th>\n",
       "      <td>0</td>\n",
       "      <td>3</td>\n",
       "      <td>1</td>\n",
       "      <td>21.000000</td>\n",
       "      <td>0</td>\n",
       "      <td>0</td>\n",
       "      <td>16.10</td>\n",
       "      <td>2</td>\n",
       "      <td>0.143220</td>\n",
       "    </tr>\n",
       "    <tr>\n",
       "      <th>469</th>\n",
       "      <td>1</td>\n",
       "      <td>2</td>\n",
       "      <td>0</td>\n",
       "      <td>29.881138</td>\n",
       "      <td>0</td>\n",
       "      <td>0</td>\n",
       "      <td>12.35</td>\n",
       "      <td>1</td>\n",
       "      <td>0.924590</td>\n",
       "    </tr>\n",
       "    <tr>\n",
       "      <th>404</th>\n",
       "      <td>0</td>\n",
       "      <td>2</td>\n",
       "      <td>1</td>\n",
       "      <td>21.000000</td>\n",
       "      <td>0</td>\n",
       "      <td>0</td>\n",
       "      <td>13.00</td>\n",
       "      <td>2</td>\n",
       "      <td>0.251588</td>\n",
       "    </tr>\n",
       "    <tr>\n",
       "      <th>387</th>\n",
       "      <td>1</td>\n",
       "      <td>2</td>\n",
       "      <td>0</td>\n",
       "      <td>48.000000</td>\n",
       "      <td>0</td>\n",
       "      <td>2</td>\n",
       "      <td>36.75</td>\n",
       "      <td>2</td>\n",
       "      <td>0.753381</td>\n",
       "    </tr>\n",
       "    <tr>\n",
       "      <th>476</th>\n",
       "      <td>0</td>\n",
       "      <td>2</td>\n",
       "      <td>1</td>\n",
       "      <td>30.000000</td>\n",
       "      <td>1</td>\n",
       "      <td>1</td>\n",
       "      <td>26.00</td>\n",
       "      <td>2</td>\n",
       "      <td>0.187975</td>\n",
       "    </tr>\n",
       "  </tbody>\n",
       "</table>\n",
       "</div>"
      ],
      "text/plain": [
       "     survived  pclass  sex        age  sibsp  parch   fare  embarked  \\\n",
       "685         0       3    1  21.000000      0      0  16.10         2   \n",
       "469         1       2    0  29.881138      0      0  12.35         1   \n",
       "404         0       2    1  21.000000      0      0  13.00         2   \n",
       "387         1       2    0  48.000000      0      2  36.75         2   \n",
       "476         0       2    1  30.000000      1      1  26.00         2   \n",
       "\n",
       "     surv_probability  \n",
       "685          0.143220  \n",
       "469          0.924590  \n",
       "404          0.251588  \n",
       "387          0.753381  \n",
       "476          0.187975  "
      ]
     },
     "execution_count": 10,
     "metadata": {},
     "output_type": "execute_result"
    }
   ],
   "source": [
    "surv_probability=model.predict(feature)\n",
    "df_selected.insert(len(df_selected.columns),'surv_probability',surv_probability)\n",
    "df_selected.head(5)"
   ]
  }
 ],
 "metadata": {
  "kernelspec": {
   "display_name": "Python 3.8.16 ('TensorFlow_2')",
   "language": "python",
   "name": "python3"
  },
  "language_info": {
   "codemirror_mode": {
    "name": "ipython",
    "version": 3
   },
   "file_extension": ".py",
   "mimetype": "text/x-python",
   "name": "python",
   "nbconvert_exporter": "python",
   "pygments_lexer": "ipython3",
   "version": "3.8.16"
  },
  "orig_nbformat": 4,
  "vscode": {
   "interpreter": {
    "hash": "eba1f01361cbcfebf806f3b68f7028338144b71e3783d6acf4b17241665e30f4"
   }
  }
 },
 "nbformat": 4,
 "nbformat_minor": 2
}
