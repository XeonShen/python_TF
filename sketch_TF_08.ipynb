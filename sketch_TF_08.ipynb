{
 "cells": [
  {
   "cell_type": "code",
   "execution_count": 46,
   "metadata": {},
   "outputs": [
    {
     "name": "stdout",
     "output_type": "stream",
     "text": [
      "datasets/titanic3.csv already exists\n"
     ]
    }
   ],
   "source": [
    "import tensorflow as tf\n",
    "import numpy as py\n",
    "import pandas as pd\n",
    "import warnings\n",
    "warnings.simplefilter(action='ignore', category=Warning)\n",
    "from sklearn import preprocessing\n",
    "import urllib.request\n",
    "import os\n",
    "\n",
    "dataset_url='https://biostat.app.vumc.org/wiki/pub/Main/DataSets/titanic3.csv'\n",
    "dataset_folder='./datasets/'\n",
    "dataset_path='datasets/titanic3.csv'\n",
    "\n",
    "if not os.path.exists(dataset_folder):\n",
    "    os.makedirs(dataset_folder)\n",
    "if not os.path.isfile(dataset_path):\n",
    "    result=urllib.request.urlretrieve(dataset_url,dataset_path)\n",
    "    print('download:',result)\n",
    "else: print(dataset_path,'already exists')"
   ]
  },
  {
   "cell_type": "code",
   "execution_count": 47,
   "metadata": {},
   "outputs": [
    {
     "data": {
      "text/plain": [
       "'\\ndf_selected.isnull().sum()\\ndf_selected[df_selected.isnull().values==True]\\n'"
      ]
     },
     "execution_count": 47,
     "metadata": {},
     "output_type": "execute_result"
    }
   ],
   "source": [
    "df=pd.read_csv(dataset_path)\n",
    "selected_cols=['survived','name','pclass','sex','age','sibsp','parch','fare','embarked']\n",
    "df_selected=df[selected_cols]\n",
    "\n",
    "'''\n",
    "df_selected.isnull().sum()\n",
    "df_selected[df_selected.isnull().values==True]\n",
    "'''"
   ]
  },
  {
   "cell_type": "code",
   "execution_count": 48,
   "metadata": {},
   "outputs": [],
   "source": [
    "df_selected['age']=df_selected['age'].fillna(df_selected['age'].mean())\n",
    "df_selected['fare']=df_selected['fare'].fillna(df_selected['fare'].mean())\n",
    "df_selected['embarked']=df_selected['embarked'].fillna('S')\n",
    "df_selected['embarked']=df_selected['embarked'].map({'C':0,'Q':1,'S':2}).astype(int)\n",
    "df_selected['sex']=df_selected['sex'].map({'female':0,'male':1}).astype(int)\n",
    "df_selected=df_selected.drop(['name'],axis=1)"
   ]
  },
  {
   "cell_type": "code",
   "execution_count": 49,
   "metadata": {},
   "outputs": [],
   "source": [
    "feature=df_selected.values[:,1:]\n",
    "label=df_selected.values[:,0]\n",
    "featured=preprocessing.MinMaxScaler(feature_range=(0,1)).fit_transform(feature)"
   ]
  }
 ],
 "metadata": {
  "kernelspec": {
   "display_name": "Python 3.8.16 ('TensorFlow_2')",
   "language": "python",
   "name": "python3"
  },
  "language_info": {
   "codemirror_mode": {
    "name": "ipython",
    "version": 3
   },
   "file_extension": ".py",
   "mimetype": "text/x-python",
   "name": "python",
   "nbconvert_exporter": "python",
   "pygments_lexer": "ipython3",
   "version": "3.8.16"
  },
  "orig_nbformat": 4,
  "vscode": {
   "interpreter": {
    "hash": "eba1f01361cbcfebf806f3b68f7028338144b71e3783d6acf4b17241665e30f4"
   }
  }
 },
 "nbformat": 4,
 "nbformat_minor": 2
}
