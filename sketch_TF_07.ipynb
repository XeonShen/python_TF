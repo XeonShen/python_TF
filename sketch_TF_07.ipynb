{
 "cells": [
  {
   "cell_type": "code",
   "execution_count": 1,
   "metadata": {},
   "outputs": [],
   "source": [
    "import tensorflow as tf\n",
    "import numpy as np\n",
    "import matplotlib.pyplot as plt\n",
    "%matplotlib inline"
   ]
  },
  {
   "cell_type": "code",
   "execution_count": 2,
   "metadata": {},
   "outputs": [
    {
     "name": "stderr",
     "output_type": "stream",
     "text": [
      "2023-03-12 18:50:02.872298: I tensorflow/core/platform/cpu_feature_guard.cc:193] This TensorFlow binary is optimized with oneAPI Deep Neural Network Library (oneDNN) to use the following CPU instructions in performance-critical operations:  SSE4.1 SSE4.2 AVX AVX2 FMA\n",
      "To enable them in other operations, rebuild TensorFlow with the appropriate compiler flags.\n"
     ]
    }
   ],
   "source": [
    "mnist=tf.keras.datasets.mnist\n",
    "(train_images,train_labels),(test_images,test_labels)=mnist.load_data()\n",
    "\n",
    "train_labels=tf.one_hot(train_labels,depth=10).numpy()\n",
    "test_labels=tf.one_hot(test_labels,depth=10).numpy()\n",
    "\n",
    "train_images=train_images/255.0\n",
    "test_images=test_images/255.0"
   ]
  },
  {
   "cell_type": "code",
   "execution_count": 3,
   "metadata": {},
   "outputs": [
    {
     "name": "stdout",
     "output_type": "stream",
     "text": [
      "Model: \"sequential\"\n",
      "_________________________________________________________________\n",
      " Layer (type)                Output Shape              Param #   \n",
      "=================================================================\n",
      " flatten (Flatten)           (None, 784)               0         \n",
      "                                                                 \n",
      " dense (Dense)               (None, 64)                50240     \n",
      "                                                                 \n",
      " dense_1 (Dense)             (None, 32)                2080      \n",
      "                                                                 \n",
      " dense_2 (Dense)             (None, 10)                330       \n",
      "                                                                 \n",
      "=================================================================\n",
      "Total params: 52,650\n",
      "Trainable params: 52,650\n",
      "Non-trainable params: 0\n",
      "_________________________________________________________________\n"
     ]
    }
   ],
   "source": [
    "model=tf.keras.models.Sequential()\n",
    "model.add(tf.keras.layers.Flatten(input_shape=(28,28)))\n",
    "model.add(tf.keras.layers.Dense(units=64,kernel_initializer='normal',activation='relu'))\n",
    "model.add(tf.keras.layers.Dense(units=32,kernel_initializer='normal',activation='relu'))\n",
    "model.add(tf.keras.layers.Dense(units=10,activation='softmax'))\n",
    "''' or setup the model at a single time:\n",
    "model=tf.keras.models.Sequential([\n",
    "    tf.keras.layers.Flatten(input_shape=(28,28)),\n",
    "    tf.keras.layers.Dense(64,kernel_initializer='normal',activation=tf.nn.relu),\n",
    "    tf.keras.layers.Dense(32,kernel_initializer='normal',activation=tf.nn.relu),\n",
    "    tf.keras.layers.Dense(10,activation=tf.nn.softmax)\n",
    "])\n",
    "'''\n",
    "model.compile(optimizer='adam',loss='categorical_crossentropy',metrics=['accuracy'])\n",
    "model.summary()"
   ]
  },
  {
   "cell_type": "code",
   "execution_count": 4,
   "metadata": {},
   "outputs": [
    {
     "name": "stdout",
     "output_type": "stream",
     "text": [
      "Epoch 1/5\n",
      "960/960 - 2s - loss: 0.4108 - accuracy: 0.8812 - val_loss: 0.2047 - val_accuracy: 0.9415 - 2s/epoch - 2ms/step\n",
      "Epoch 2/5\n",
      "960/960 - 1s - loss: 0.1856 - accuracy: 0.9444 - val_loss: 0.1582 - val_accuracy: 0.9526 - 1s/epoch - 1ms/step\n",
      "Epoch 3/5\n",
      "960/960 - 1s - loss: 0.1411 - accuracy: 0.9583 - val_loss: 0.1410 - val_accuracy: 0.9572 - 1s/epoch - 1ms/step\n",
      "Epoch 4/5\n",
      "960/960 - 1s - loss: 0.1126 - accuracy: 0.9667 - val_loss: 0.1265 - val_accuracy: 0.9618 - 1s/epoch - 1ms/step\n",
      "Epoch 5/5\n",
      "960/960 - 1s - loss: 0.0934 - accuracy: 0.9725 - val_loss: 0.1214 - val_accuracy: 0.9640 - 1s/epoch - 1ms/step\n"
     ]
    }
   ],
   "source": [
    "train_epochs=5\n",
    "batch_size=50\n",
    "model_history=model.fit(train_images,train_labels,validation_split=0.2,epochs=train_epochs,batch_size=batch_size,verbose=2)"
   ]
  },
  {
   "cell_type": "code",
   "execution_count": 5,
   "metadata": {},
   "outputs": [
    {
     "data": {
      "text/plain": [
       "{'loss': [0.4108377993106842,\n",
       "  0.1855834722518921,\n",
       "  0.1410878449678421,\n",
       "  0.11256957054138184,\n",
       "  0.09338577091693878],\n",
       " 'accuracy': [0.8812291622161865,\n",
       "  0.9444375038146973,\n",
       "  0.9582708477973938,\n",
       "  0.9666875004768372,\n",
       "  0.9724791646003723],\n",
       " 'val_loss': [0.20471574366092682,\n",
       "  0.15817618370056152,\n",
       "  0.14103913307189941,\n",
       "  0.12652604281902313,\n",
       "  0.1214408129453659],\n",
       " 'val_accuracy': [0.9415000081062317,\n",
       "  0.9525833129882812,\n",
       "  0.9571666717529297,\n",
       "  0.9618333578109741,\n",
       "  0.9639999866485596]}"
      ]
     },
     "execution_count": 5,
     "metadata": {},
     "output_type": "execute_result"
    }
   ],
   "source": [
    "model_history.history"
   ]
  },
  {
   "cell_type": "code",
   "execution_count": 6,
   "metadata": {},
   "outputs": [
    {
     "data": {
      "image/png": "[encoded data removed]",
      "text/plain": [
       "<Figure size 640x480 with 1 Axes>"
      ]
     },
     "metadata": {},
     "output_type": "display_data"
    }
   ],
   "source": [
    "def show_train_history(model_history,train_loss,val_loss,train_acc,val_acc):\n",
    "    plt.plot(model_history.history[train_loss])\n",
    "    plt.plot(model_history.history[val_loss])\n",
    "    plt.plot(model_history.history[train_acc])\n",
    "    plt.plot(model_history.history[val_acc])\n",
    "    plt.title('train history')\n",
    "    plt.xlabel('epoch')\n",
    "    plt.legend(['train_loss','val_loss','train_acc','val_acc'],loc='upper left')\n",
    "    plt.show()\n",
    "\n",
    "show_train_history(model_history,'loss','val_loss','accuracy','val_accuracy')"
   ]
  },
  {
   "cell_type": "code",
   "execution_count": 7,
   "metadata": {},
   "outputs": [
    {
     "name": "stdout",
     "output_type": "stream",
     "text": [
      "313/313 - 0s - loss: 0.1159 - accuracy: 0.9654 - 323ms/epoch - 1ms/step\n",
      "313/313 [==============================] - 0s 641us/step\n"
     ]
    },
    {
     "data": {
      "text/plain": [
       "(10000, 10)"
      ]
     },
     "execution_count": 7,
     "metadata": {},
     "output_type": "execute_result"
    }
   ],
   "source": [
    "test_loss,test_acc=model.evaluate(test_images,test_labels,verbose=2)\n",
    "test_pred=model.predict(test_images)\n",
    "test_pred.shape"
   ]
  }
 ],
 "metadata": {
  "kernelspec": {
   "display_name": "Python 3.8.16 ('TensorFlow_2')",
   "language": "python",
   "name": "python3"
  },
  "language_info": {
   "codemirror_mode": {
    "name": "ipython",
    "version": 3
   },
   "file_extension": ".py",
   "mimetype": "text/x-python",
   "name": "python",
   "nbconvert_exporter": "python",
   "pygments_lexer": "ipython3",
   "version": "3.8.16"
  },
  "orig_nbformat": 4,
  "vscode": {
   "interpreter": {
    "hash": "eba1f01361cbcfebf806f3b68f7028338144b71e3783d6acf4b17241665e30f4"
   }
  }
 },
 "nbformat": 4,
 "nbformat_minor": 2
}
