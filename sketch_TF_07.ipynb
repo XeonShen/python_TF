{
 "cells": [
  {
   "cell_type": "code",
   "execution_count": 8,
   "metadata": {},
   "outputs": [],
   "source": [
    "import tensorflow as tf\n",
    "import numpy as np\n",
    "import matplotlib.pyplot as plt\n",
    "%matplotlib inline"
   ]
  },
  {
   "cell_type": "code",
   "execution_count": 9,
   "metadata": {},
   "outputs": [],
   "source": [
    "mnist=tf.keras.datasets.mnist\n",
    "(train_images,train_labels),(test_images,test_labels)=mnist.load_data()\n",
    "\n",
    "train_labels=tf.one_hot(train_labels,depth=10).numpy()\n",
    "test_labels=tf.one_hot(test_labels,depth=10).numpy()\n",
    "\n",
    "train_images=train_images/255.0\n",
    "test_images=test_images/255.0"
   ]
  },
  {
   "cell_type": "code",
   "execution_count": 10,
   "metadata": {},
   "outputs": [
    {
     "name": "stdout",
     "output_type": "stream",
     "text": [
      "Model: \"sequential_1\"\n",
      "_________________________________________________________________\n",
      " Layer (type)                Output Shape              Param #   \n",
      "=================================================================\n",
      " flatten_1 (Flatten)         (None, 784)               0         \n",
      "                                                                 \n",
      " dense_3 (Dense)             (None, 64)                50240     \n",
      "                                                                 \n",
      " dense_4 (Dense)             (None, 32)                2080      \n",
      "                                                                 \n",
      " dense_5 (Dense)             (None, 10)                330       \n",
      "                                                                 \n",
      "=================================================================\n",
      "Total params: 52,650\n",
      "Trainable params: 52,650\n",
      "Non-trainable params: 0\n",
      "_________________________________________________________________\n"
     ]
    }
   ],
   "source": [
    "model=tf.keras.models.Sequential()\n",
    "model.add(tf.keras.layers.Flatten(input_shape=(28,28)))\n",
    "model.add(tf.keras.layers.Dense(units=64,kernel_initializer='normal',activation='relu'))\n",
    "model.add(tf.keras.layers.Dense(units=32,kernel_initializer='normal',activation='relu'))\n",
    "model.add(tf.keras.layers.Dense(units=10,activation='softmax'))\n",
    "''' or setup the model at a single time:\n",
    "model=tf.keras.models.Sequential([\n",
    "    tf.keras.layers.Flatten(input_shape=(28,28)),\n",
    "    tf.keras.layers.Dense(64,kernel_initializer='normal',activation=tf.nn.relu),\n",
    "    tf.keras.layers.Dense(32,kernel_initializer='normal',activation=tf.nn.relu),\n",
    "    tf.keras.layers.Dense(10,activation=tf.nn.softmax)\n",
    "])\n",
    "'''\n",
    "model.compile(optimizer='adam',loss='categorical_crossentropy',metrics=['accuracy'])\n",
    "model.summary()"
   ]
  },
  {
   "cell_type": "code",
   "execution_count": 11,
   "metadata": {},
   "outputs": [
    {
     "name": "stdout",
     "output_type": "stream",
     "text": [
      "Epoch 1/5\n",
      "960/960 - 1s - loss: 0.3887 - accuracy: 0.8890 - val_loss: 0.2254 - val_accuracy: 0.9324 - 1s/epoch - 2ms/step\n",
      "Epoch 2/5\n",
      "960/960 - 1s - loss: 0.1823 - accuracy: 0.9457 - val_loss: 0.1614 - val_accuracy: 0.9526 - 1s/epoch - 1ms/step\n",
      "Epoch 3/5\n",
      "960/960 - 1s - loss: 0.1340 - accuracy: 0.9611 - val_loss: 0.1362 - val_accuracy: 0.9576 - 1s/epoch - 1ms/step\n",
      "Epoch 4/5\n",
      "960/960 - 1s - loss: 0.1060 - accuracy: 0.9679 - val_loss: 0.1281 - val_accuracy: 0.9624 - 1s/epoch - 1ms/step\n",
      "Epoch 5/5\n",
      "960/960 - 1s - loss: 0.0874 - accuracy: 0.9737 - val_loss: 0.1110 - val_accuracy: 0.9663 - 1s/epoch - 1ms/step\n"
     ]
    }
   ],
   "source": [
    "train_epochs=5\n",
    "batch_size=50\n",
    "model_history=model.fit(train_images,train_labels,validation_split=0.2,epochs=train_epochs,batch_size=batch_size,verbose=2)"
   ]
  },
  {
   "cell_type": "code",
   "execution_count": 12,
   "metadata": {},
   "outputs": [
    {
     "data": {
      "text/plain": [
       "{'loss': [0.3886745870113373,\n",
       "  0.1822902262210846,\n",
       "  0.13400337100028992,\n",
       "  0.1059844121336937,\n",
       "  0.08741495758295059],\n",
       " 'accuracy': [0.8889999985694885,\n",
       "  0.9457291960716248,\n",
       "  0.961104154586792,\n",
       "  0.9678541421890259,\n",
       "  0.9737499952316284],\n",
       " 'val_loss': [0.22542224824428558,\n",
       "  0.16140048205852509,\n",
       "  0.1361899971961975,\n",
       "  0.12807518243789673,\n",
       "  0.11100655049085617],\n",
       " 'val_accuracy': [0.9324166774749756,\n",
       "  0.9525833129882812,\n",
       "  0.9575833082199097,\n",
       "  0.9624166488647461,\n",
       "  0.9662500023841858]}"
      ]
     },
     "execution_count": 12,
     "metadata": {},
     "output_type": "execute_result"
    }
   ],
   "source": [
    "model_history.history"
   ]
  },
  {
   "cell_type": "code",
   "execution_count": 13,
   "metadata": {},
   "outputs": [
    {
     "data": {
      "image/png": "[encoded data removed]",
      "text/plain": [
       "<Figure size 640x480 with 1 Axes>"
      ]
     },
     "metadata": {},
     "output_type": "display_data"
    }
   ],
   "source": [
    "def show_train_history(model_history,train_loss,val_loss,train_acc,val_acc):\n",
    "    plt.plot(model_history.history[train_loss])\n",
    "    plt.plot(model_history.history[val_loss])\n",
    "    plt.plot(model_history.history[train_acc])\n",
    "    plt.plot(model_history.history[val_acc])\n",
    "    plt.title('train history')\n",
    "    plt.xlabel('epoch')\n",
    "    plt.legend(['train_loss','val_loss','train_acc','val_acc'],loc='upper left')\n",
    "    plt.show()\n",
    "\n",
    "show_train_history(model_history,'loss','val_loss','accuracy','val_accuracy')"
   ]
  },
  {
   "cell_type": "code",
   "execution_count": 14,
   "metadata": {},
   "outputs": [
    {
     "name": "stdout",
     "output_type": "stream",
     "text": [
      "313/313 - 0s - loss: 0.1060 - accuracy: 0.9674 - 318ms/epoch - 1ms/step\n",
      "313/313 [==============================] - 0s 650us/step\n"
     ]
    },
    {
     "data": {
      "text/plain": [
       "(10000, 10)"
      ]
     },
     "execution_count": 14,
     "metadata": {},
     "output_type": "execute_result"
    }
   ],
   "source": [
    "test_loss,test_acc=model.evaluate(test_images,test_labels,verbose=2)\n",
    "test_pred=model.predict(test_images)\n",
    "test_pred.shape"
   ]
  }
 ],
 "metadata": {
  "kernelspec": {
   "display_name": "Python 3.8.16 ('TensorFlow_2')",
   "language": "python",
   "name": "python3"
  },
  "language_info": {
   "codemirror_mode": {
    "name": "ipython",
    "version": 3
   },
   "file_extension": ".py",
   "mimetype": "text/x-python",
   "name": "python",
   "nbconvert_exporter": "python",
   "pygments_lexer": "ipython3",
   "version": "3.8.16"
  },
  "orig_nbformat": 4,
  "vscode": {
   "interpreter": {
    "hash": "eba1f01361cbcfebf806f3b68f7028338144b71e3783d6acf4b17241665e30f4"
   }
  }
 },
 "nbformat": 4,
 "nbformat_minor": 2
}
