{
 "cells": [
  {
   "cell_type": "code",
   "execution_count": 1,
   "metadata": {},
   "outputs": [],
   "source": [
    "import tensorflow as tf\n",
    "import numpy as np\n",
    "import matplotlib.pyplot as plt\n",
    "%matplotlib inline"
   ]
  },
  {
   "cell_type": "code",
   "execution_count": 2,
   "metadata": {},
   "outputs": [
    {
     "name": "stderr",
     "output_type": "stream",
     "text": [
      "2023-03-11 01:16:18.255192: I tensorflow/core/platform/cpu_feature_guard.cc:193] This TensorFlow binary is optimized with oneAPI Deep Neural Network Library (oneDNN) to use the following CPU instructions in performance-critical operations:  SSE4.1 SSE4.2 AVX AVX2 FMA\n",
      "To enable them in other operations, rebuild TensorFlow with the appropriate compiler flags.\n"
     ]
    }
   ],
   "source": [
    "mnist=tf.keras.datasets.mnist\n",
    "(train_images,train_labels),(test_images,test_labels)=mnist.load_data()\n",
    "\n",
    "train_labels=tf.one_hot(train_labels,depth=10).numpy()\n",
    "test_labels=tf.one_hot(test_labels,depth=10).numpy()\n",
    "\n",
    "train_images=train_images/255.0\n",
    "test_images=test_images/255.0"
   ]
  },
  {
   "cell_type": "code",
   "execution_count": 4,
   "metadata": {},
   "outputs": [
    {
     "name": "stdout",
     "output_type": "stream",
     "text": [
      "Model: \"sequential_1\"\n",
      "_________________________________________________________________\n",
      " Layer (type)                Output Shape              Param #   \n",
      "=================================================================\n",
      " flatten_1 (Flatten)         (None, 784)               0         \n",
      "                                                                 \n",
      " dense_3 (Dense)             (None, 64)                50240     \n",
      "                                                                 \n",
      " dense_4 (Dense)             (None, 32)                2080      \n",
      "                                                                 \n",
      " dense_5 (Dense)             (None, 10)                330       \n",
      "                                                                 \n",
      "=================================================================\n",
      "Total params: 52,650\n",
      "Trainable params: 52,650\n",
      "Non-trainable params: 0\n",
      "_________________________________________________________________\n"
     ]
    }
   ],
   "source": [
    "model=tf.keras.models.Sequential()\n",
    "model.add(tf.keras.layers.Flatten(input_shape=(28,28)))\n",
    "model.add(tf.keras.layers.Dense(units=64,kernel_initializer='normal',activation=tf.nn.relu))\n",
    "model.add(tf.keras.layers.Dense(units=32,kernel_initializer='normal',activation=tf.nn.relu))\n",
    "model.add(tf.keras.layers.Dense(10,activation=tf.nn.softmax))\n",
    "model.summary()"
   ]
  },
  {
   "cell_type": "code",
   "execution_count": 5,
   "metadata": {},
   "outputs": [],
   "source": [
    "model.compile(optimizer='adam',loss='categorical_crossentropy',metrics=['accuracy'])"
   ]
  },
  {
   "cell_type": "code",
   "execution_count": 6,
   "metadata": {},
   "outputs": [
    {
     "name": "stdout",
     "output_type": "stream",
     "text": [
      "Epoch 1/5\n",
      "960/960 - 2s - loss: 0.3844 - accuracy: 0.8928 - val_loss: 0.1906 - val_accuracy: 0.9445 - 2s/epoch - 2ms/step\n",
      "Epoch 2/5\n",
      "960/960 - 1s - loss: 0.1703 - accuracy: 0.9502 - val_loss: 0.1502 - val_accuracy: 0.9560 - 1s/epoch - 1ms/step\n",
      "Epoch 3/5\n",
      "960/960 - 1s - loss: 0.1242 - accuracy: 0.9630 - val_loss: 0.1354 - val_accuracy: 0.9607 - 1s/epoch - 1ms/step\n",
      "Epoch 4/5\n",
      "960/960 - 1s - loss: 0.0990 - accuracy: 0.9705 - val_loss: 0.1150 - val_accuracy: 0.9661 - 1s/epoch - 1ms/step\n",
      "Epoch 5/5\n",
      "960/960 - 1s - loss: 0.0797 - accuracy: 0.9753 - val_loss: 0.1094 - val_accuracy: 0.9672 - 1s/epoch - 1ms/step\n"
     ]
    }
   ],
   "source": [
    "train_epochs=5\n",
    "batch_size=50\n",
    "trained_model=model.fit(train_images,train_labels,validation_split=0.2,epochs=train_epochs,batch_size=batch_size,verbose=2)"
   ]
  },
  {
   "cell_type": "code",
   "execution_count": 7,
   "metadata": {},
   "outputs": [
    {
     "data": {
      "text/plain": [
       "{'loss': [0.3844381868839264,\n",
       "  0.17030492424964905,\n",
       "  0.12423007935285568,\n",
       "  0.09903085976839066,\n",
       "  0.07970244437456131],\n",
       " 'accuracy': [0.8928124904632568,\n",
       "  0.950208306312561,\n",
       "  0.9629583358764648,\n",
       "  0.9704583287239075,\n",
       "  0.9752916693687439],\n",
       " 'val_loss': [0.1906021535396576,\n",
       "  0.15023893117904663,\n",
       "  0.13536381721496582,\n",
       "  0.11500296741724014,\n",
       "  0.10939214378595352],\n",
       " 'val_accuracy': [0.9445000290870667,\n",
       "  0.9559999704360962,\n",
       "  0.9607499837875366,\n",
       "  0.9660833477973938,\n",
       "  0.9671666622161865]}"
      ]
     },
     "execution_count": 7,
     "metadata": {},
     "output_type": "execute_result"
    }
   ],
   "source": [
    "trained_model.history"
   ]
  },
  {
   "cell_type": "code",
   "execution_count": null,
   "metadata": {},
   "outputs": [],
   "source": []
  }
 ],
 "metadata": {
  "kernelspec": {
   "display_name": "Python 3.8.16 ('TensorFlow_2')",
   "language": "python",
   "name": "python3"
  },
  "language_info": {
   "codemirror_mode": {
    "name": "ipython",
    "version": 3
   },
   "file_extension": ".py",
   "mimetype": "text/x-python",
   "name": "python",
   "nbconvert_exporter": "python",
   "pygments_lexer": "ipython3",
   "version": "3.8.16"
  },
  "orig_nbformat": 4,
  "vscode": {
   "interpreter": {
    "hash": "eba1f01361cbcfebf806f3b68f7028338144b71e3783d6acf4b17241665e30f4"
   }
  }
 },
 "nbformat": 4,
 "nbformat_minor": 2
}
