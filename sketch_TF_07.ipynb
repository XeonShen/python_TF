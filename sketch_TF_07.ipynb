{
 "cells": [
  {
   "cell_type": "code",
   "execution_count": 17,
   "metadata": {},
   "outputs": [],
   "source": [
    "import tensorflow as tf\n",
    "import numpy as np\n",
    "import matplotlib.pyplot as plt\n",
    "%matplotlib inline"
   ]
  },
  {
   "cell_type": "code",
   "execution_count": 18,
   "metadata": {},
   "outputs": [],
   "source": [
    "mnist=tf.keras.datasets.mnist\n",
    "(train_images,train_labels),(test_images,test_labels)=mnist.load_data()\n",
    "\n",
    "train_labels=tf.one_hot(train_labels,depth=10).numpy()\n",
    "test_labels=tf.one_hot(test_labels,depth=10).numpy()\n",
    "\n",
    "train_images=train_images/255.0\n",
    "test_images=test_images/255.0"
   ]
  },
  {
   "cell_type": "code",
   "execution_count": 19,
   "metadata": {},
   "outputs": [
    {
     "name": "stdout",
     "output_type": "stream",
     "text": [
      "Model: \"sequential_3\"\n",
      "_________________________________________________________________\n",
      " Layer (type)                Output Shape              Param #   \n",
      "=================================================================\n",
      " flatten_1 (Flatten)         (None, 784)               0         \n",
      "                                                                 \n",
      " dense_3 (Dense)             (None, 64)                50240     \n",
      "                                                                 \n",
      " dense_4 (Dense)             (None, 32)                2080      \n",
      "                                                                 \n",
      " dense_5 (Dense)             (None, 10)                330       \n",
      "                                                                 \n",
      "=================================================================\n",
      "Total params: 52,650\n",
      "Trainable params: 52,650\n",
      "Non-trainable params: 0\n",
      "_________________________________________________________________\n"
     ]
    }
   ],
   "source": [
    "model=tf.keras.models.Sequential()\n",
    "model.add(tf.keras.layers.Flatten(input_shape=(28,28)))\n",
    "model.add(tf.keras.layers.Dense(units=64,kernel_initializer='normal',activation=tf.nn.relu))\n",
    "model.add(tf.keras.layers.Dense(units=32,kernel_initializer='normal',activation=tf.nn.relu))\n",
    "model.add(tf.keras.layers.Dense(10,activation=tf.nn.softmax))\n",
    "model.compile(optimizer='adam',loss='categorical_crossentropy',metrics=['accuracy'])\n",
    "model.summary()"
   ]
  },
  {
   "cell_type": "code",
   "execution_count": 20,
   "metadata": {},
   "outputs": [
    {
     "name": "stdout",
     "output_type": "stream",
     "text": [
      "Epoch 1/5\n",
      "960/960 - 2s - loss: 0.3953 - accuracy: 0.8866 - val_loss: 0.2142 - val_accuracy: 0.9375 - 2s/epoch - 2ms/step\n",
      "Epoch 2/5\n",
      "960/960 - 1s - loss: 0.1735 - accuracy: 0.9490 - val_loss: 0.1489 - val_accuracy: 0.9552 - 1s/epoch - 1ms/step\n",
      "Epoch 3/5\n",
      "960/960 - 1s - loss: 0.1285 - accuracy: 0.9616 - val_loss: 0.1305 - val_accuracy: 0.9625 - 1s/epoch - 1ms/step\n",
      "Epoch 4/5\n",
      "960/960 - 1s - loss: 0.1009 - accuracy: 0.9698 - val_loss: 0.1286 - val_accuracy: 0.9612 - 1s/epoch - 1ms/step\n",
      "Epoch 5/5\n",
      "960/960 - 1s - loss: 0.0844 - accuracy: 0.9744 - val_loss: 0.1060 - val_accuracy: 0.9697 - 1s/epoch - 1ms/step\n"
     ]
    }
   ],
   "source": [
    "train_epochs=5\n",
    "batch_size=50\n",
    "model_history=model.fit(train_images,train_labels,validation_split=0.2,epochs=train_epochs,batch_size=batch_size,verbose=2)"
   ]
  },
  {
   "cell_type": "code",
   "execution_count": 21,
   "metadata": {},
   "outputs": [
    {
     "data": {
      "text/plain": [
       "{'loss': [0.39531248807907104,\n",
       "  0.17350634932518005,\n",
       "  0.1284979283809662,\n",
       "  0.10093897581100464,\n",
       "  0.08440463989973068],\n",
       " 'accuracy': [0.8866041898727417,\n",
       "  0.9490000009536743,\n",
       "  0.9615833163261414,\n",
       "  0.9698333144187927,\n",
       "  0.9743958115577698],\n",
       " 'val_loss': [0.21422800421714783,\n",
       "  0.14894606173038483,\n",
       "  0.13049854338169098,\n",
       "  0.12864196300506592,\n",
       "  0.1060224175453186],\n",
       " 'val_accuracy': [0.9375,\n",
       "  0.9551666378974915,\n",
       "  0.9624999761581421,\n",
       "  0.9611666798591614,\n",
       "  0.9696666598320007]}"
      ]
     },
     "execution_count": 21,
     "metadata": {},
     "output_type": "execute_result"
    }
   ],
   "source": [
    "model_history.history"
   ]
  },
  {
   "cell_type": "code",
   "execution_count": 22,
   "metadata": {},
   "outputs": [
    {
     "data": {
      "image/png": "[encoded data removed]",
      "text/plain": [
       "<Figure size 640x480 with 1 Axes>"
      ]
     },
     "metadata": {},
     "output_type": "display_data"
    }
   ],
   "source": [
    "def show_train_history(model_history,train_loss,val_loss,train_acc,val_acc):\n",
    "    plt.plot(model_history.history[train_loss])\n",
    "    plt.plot(model_history.history[val_loss])\n",
    "    plt.plot(model_history.history[train_acc])\n",
    "    plt.plot(model_history.history[val_acc])\n",
    "    plt.title('train history')\n",
    "    plt.xlabel('epoch')\n",
    "    plt.legend(['train_loss','val_loss','train_acc','val_acc'],loc='upper left')\n",
    "    plt.show()\n",
    "\n",
    "show_train_history(model_history,'loss','val_loss','accuracy','val_accuracy')"
   ]
  },
  {
   "cell_type": "code",
   "execution_count": 23,
   "metadata": {},
   "outputs": [
    {
     "name": "stdout",
     "output_type": "stream",
     "text": [
      "313/313 - 0s - loss: 0.0973 - accuracy: 0.9712 - 321ms/epoch - 1ms/step\n",
      "313/313 [==============================] - 0s 694us/step\n"
     ]
    },
    {
     "data": {
      "text/plain": [
       "(10000, 10)"
      ]
     },
     "execution_count": 23,
     "metadata": {},
     "output_type": "execute_result"
    }
   ],
   "source": [
    "test_loss,test_acc=model.evaluate(test_images,test_labels,verbose=2)\n",
    "test_pred=model.predict(test_images)\n",
    "test_pred.shape"
   ]
  }
 ],
 "metadata": {
  "kernelspec": {
   "display_name": "Python 3.8.16 ('TensorFlow_2')",
   "language": "python",
   "name": "python3"
  },
  "language_info": {
   "codemirror_mode": {
    "name": "ipython",
    "version": 3
   },
   "file_extension": ".py",
   "mimetype": "text/x-python",
   "name": "python",
   "nbconvert_exporter": "python",
   "pygments_lexer": "ipython3",
   "version": "3.8.16"
  },
  "orig_nbformat": 4,
  "vscode": {
   "interpreter": {
    "hash": "eba1f01361cbcfebf806f3b68f7028338144b71e3783d6acf4b17241665e30f4"
   }
  }
 },
 "nbformat": 4,
 "nbformat_minor": 2
}
