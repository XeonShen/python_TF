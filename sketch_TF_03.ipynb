{
 "cells": [
  {
   "cell_type": "code",
   "execution_count": 1,
   "metadata": {},
   "outputs": [],
   "source": [
    "import tensorflow.compat.v1 as tf\n",
    "tf.disable_eager_execution()\n",
    "import numpy as np\n",
    "import matplotlib.pyplot as plt\n",
    "%matplotlib inline\n",
    "import pandas as pd\n",
    "from sklearn.utils import shuffle"
   ]
  },
  {
   "cell_type": "code",
   "execution_count": 2,
   "metadata": {},
   "outputs": [],
   "source": [
    "df=pd.read_csv('boston.csv',header=0)\n",
    "df=np.array(df)"
   ]
  },
  {
   "cell_type": "code",
   "execution_count": 3,
   "metadata": {},
   "outputs": [],
   "source": [
    "for i in range(12):\n",
    "    df[:,i]=(df[:,i]-df[:,i].min())/(df[:,i].max()-df[:,i].min())\n",
    "x_data=df[:,:12]\n",
    "y_data=df[:,12]\n",
    "x=tf.placeholder(tf.float32,[None,12])\n",
    "y=tf.placeholder(tf.float32,[None,1])\n",
    "\n",
    "w=tf.Variable(tf.random_normal([12,1],stddev=0.01))\n",
    "b=tf.Variable(1.0)"
   ]
  },
  {
   "cell_type": "code",
   "execution_count": 4,
   "metadata": {},
   "outputs": [],
   "source": [
    "def model(x,w,b):\n",
    "    return tf.matmul(x,w)+b\n",
    "def loss(x,y,w,b):\n",
    "    err=y-model(x,w,b)\n",
    "    return tf.reduce_mean(tf.pow(err,2))"
   ]
  },
  {
   "cell_type": "code",
   "execution_count": 5,
   "metadata": {},
   "outputs": [
    {
     "name": "stderr",
     "output_type": "stream",
     "text": [
      "2023-03-09 19:18:18.119432: I tensorflow/core/platform/cpu_feature_guard.cc:193] This TensorFlow binary is optimized with oneAPI Deep Neural Network Library (oneDNN) to use the following CPU instructions in performance-critical operations:  SSE4.1 SSE4.2 AVX AVX2 FMA\n",
      "To enable them in other operations, rebuild TensorFlow with the appropriate compiler flags.\n",
      "2023-03-09 19:18:18.121817: I tensorflow/compiler/mlir/mlir_graph_optimization_pass.cc:354] MLIR V1 optimization pass is not enabled\n"
     ]
    },
    {
     "name": "stdout",
     "output_type": "stream",
     "text": [
      "epoch: 1 ,loss= 60.66691632219107 ,b= 10.957106 ,w= [[-0.832746  ]\n",
      " [ 2.9412367 ]\n",
      " [ 0.03271436]\n",
      " [ 0.7519784 ]\n",
      " [ 1.4552255 ]\n",
      " [ 9.712736  ]\n",
      " [ 2.8793986 ]\n",
      " [ 3.0632727 ]\n",
      " [ 0.5944426 ]\n",
      " [ 0.17937192]\n",
      " [ 1.2760382 ]\n",
      " [-3.8913078 ]]\n",
      "epoch: 2 ,loss= 37.054875358784734 ,b= 12.907235 ,w= [[-1.544129  ]\n",
      " [ 3.5317647 ]\n",
      " [-0.5154264 ]\n",
      " [ 1.4241416 ]\n",
      " [ 1.650269  ]\n",
      " [13.811206  ]\n",
      " [ 2.1978493 ]\n",
      " [ 2.538095  ]\n",
      " [ 0.8817891 ]\n",
      " [-0.43628606]\n",
      " [-0.5977479 ]\n",
      " [-8.013541  ]]\n",
      "epoch: 3 ,loss= 30.5795277720218 ,b= 14.154229 ,w= [[ -2.1617413 ]\n",
      " [  3.447018  ]\n",
      " [ -0.71474767]\n",
      " [  1.8340175 ]\n",
      " [  1.810864  ]\n",
      " [ 16.586622  ]\n",
      " [  1.8175025 ]\n",
      " [  1.6543363 ]\n",
      " [  1.3160534 ]\n",
      " [ -0.8589677 ]\n",
      " [ -1.8824232 ]\n",
      " [-11.083525  ]]\n",
      "epoch: 4 ,loss= 27.30080427948321 ,b= 15.060782 ,w= [[ -2.715781  ]\n",
      " [  3.1570373 ]\n",
      " [ -0.77038354]\n",
      " [  2.0261483 ]\n",
      " [  1.8542563 ]\n",
      " [ 18.53814   ]\n",
      " [  1.5495274 ]\n",
      " [  0.7278845 ]\n",
      " [  1.7691895 ]\n",
      " [ -1.1825857 ]\n",
      " [ -2.7675576 ]\n",
      " [-13.415342  ]]\n",
      "epoch: 5 ,loss= 25.480810388155554 ,b= 15.780491 ,w= [[ -3.2227693 ]\n",
      " [  2.8367774 ]\n",
      " [ -0.7613956 ]\n",
      " [  2.0768256 ]\n",
      " [  1.7852947 ]\n",
      " [ 19.933393  ]\n",
      " [  1.3336824 ]\n",
      " [ -0.14211407]\n",
      " [  2.192098  ]\n",
      " [ -1.4497893 ]\n",
      " [ -3.381574  ]\n",
      " [-15.202319  ]]\n"
     ]
    }
   ],
   "source": [
    "learning_rate=0.01\n",
    "loss_function=loss(x,y,w,b)\n",
    "optimizer=tf.train.GradientDescentOptimizer(learning_rate).minimize(loss_function)\n",
    "\n",
    "sess=tf.Session()\n",
    "init=tf.global_variables_initializer()\n",
    "sess.run(init)\n",
    "\n",
    "training_epochs=5\n",
    "for epoch in range(training_epochs):\n",
    "    loss_sum=0.0\n",
    "    for xs,ys in zip(x_data,y_data):\n",
    "        xs=xs.reshape(1,12)\n",
    "        ys=ys.reshape(1,1)\n",
    "        _,loss=sess.run([optimizer,loss_function],feed_dict={x:xs,y:ys})\n",
    "        loss_sum=loss_sum+loss\n",
    "\n",
    "    xvalues,yvalues=shuffle(x_data,y_data)\n",
    "    b0temp=b.eval(session=sess)\n",
    "    w0temp=w.eval(session=sess)\n",
    "    loss_average=loss_sum/len(y_data)\n",
    "    print('epoch:',epoch+1,',loss=',loss_average,',b=',b0temp,',w=',w0temp)"
   ]
  }
 ],
 "metadata": {
  "kernelspec": {
   "display_name": "Python 3.8.16 ('TensorFlow_2')",
   "language": "python",
   "name": "python3"
  },
  "language_info": {
   "codemirror_mode": {
    "name": "ipython",
    "version": 3
   },
   "file_extension": ".py",
   "mimetype": "text/x-python",
   "name": "python",
   "nbconvert_exporter": "python",
   "pygments_lexer": "ipython3",
   "version": "3.8.16"
  },
  "orig_nbformat": 4,
  "vscode": {
   "interpreter": {
    "hash": "eba1f01361cbcfebf806f3b68f7028338144b71e3783d6acf4b17241665e30f4"
   }
  }
 },
 "nbformat": 4,
 "nbformat_minor": 2
}
