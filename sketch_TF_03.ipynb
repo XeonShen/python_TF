{
 "cells": [
  {
   "cell_type": "code",
   "execution_count": 1,
   "metadata": {},
   "outputs": [],
   "source": [
    "import tensorflow.compat.v1 as tf\n",
    "tf.disable_eager_execution()\n",
    "import numpy as np\n",
    "import matplotlib.pyplot as plt\n",
    "%matplotlib inline\n",
    "import pandas as pd\n",
    "from sklearn.utils import shuffle"
   ]
  },
  {
   "cell_type": "code",
   "execution_count": 3,
   "metadata": {},
   "outputs": [],
   "source": [
    "df=pd.read_csv('./datasets/boston.csv',header=0)\n",
    "df=np.array(df)"
   ]
  },
  {
   "cell_type": "code",
   "execution_count": 4,
   "metadata": {},
   "outputs": [],
   "source": [
    "for i in range(12):\n",
    "    df[:,i]=(df[:,i]-df[:,i].min())/(df[:,i].max()-df[:,i].min())\n",
    "x_data=df[:,:12]\n",
    "y_data=df[:,12]\n",
    "x=tf.placeholder(tf.float32,[None,12])\n",
    "y=tf.placeholder(tf.float32,[None,1])\n",
    "\n",
    "w=tf.Variable(tf.random_normal([12,1],stddev=0.01))\n",
    "b=tf.Variable(1.0)"
   ]
  },
  {
   "cell_type": "code",
   "execution_count": 5,
   "metadata": {},
   "outputs": [],
   "source": [
    "def model(x,w,b):\n",
    "    return tf.matmul(x,w)+b\n",
    "def loss(x,y,w,b):\n",
    "    err=y-model(x,w,b)\n",
    "    return tf.reduce_mean(tf.pow(err,2))"
   ]
  },
  {
   "cell_type": "code",
   "execution_count": 6,
   "metadata": {},
   "outputs": [
    {
     "name": "stderr",
     "output_type": "stream",
     "text": [
      "2023-03-12 21:57:28.954562: I tensorflow/core/platform/cpu_feature_guard.cc:193] This TensorFlow binary is optimized with oneAPI Deep Neural Network Library (oneDNN) to use the following CPU instructions in performance-critical operations:  SSE4.1 SSE4.2 AVX AVX2 FMA\n",
      "To enable them in other operations, rebuild TensorFlow with the appropriate compiler flags.\n",
      "2023-03-12 21:57:28.957211: I tensorflow/compiler/mlir/mlir_graph_optimization_pass.cc:354] MLIR V1 optimization pass is not enabled\n"
     ]
    },
    {
     "name": "stdout",
     "output_type": "stream",
     "text": [
      "epoch: 1 ,loss= 60.6769194611912 ,b= 10.964473 ,w= [[-0.8398772 ]\n",
      " [ 2.9547875 ]\n",
      " [ 0.0172753 ]\n",
      " [ 0.75713915]\n",
      " [ 1.4604151 ]\n",
      " [ 9.694686  ]\n",
      " [ 2.8799226 ]\n",
      " [ 3.0644138 ]\n",
      " [ 0.60122716]\n",
      " [ 0.18414092]\n",
      " [ 1.2801774 ]\n",
      " [-3.8947544 ]]\n",
      "epoch: 2 ,loss= 37.0594051393907 ,b= 12.913001 ,w= [[-1.5509207 ]\n",
      " [ 3.54077   ]\n",
      " [-0.5282772 ]\n",
      " [ 1.427666  ]\n",
      " [ 1.6559075 ]\n",
      " [13.79355   ]\n",
      " [ 2.1995401 ]\n",
      " [ 2.5365787 ]\n",
      " [ 0.888156  ]\n",
      " [-0.43196076]\n",
      " [-0.5940242 ]\n",
      " [-8.017036  ]]\n",
      "epoch: 3 ,loss= 30.58437251782309 ,b= 14.159567 ,w= [[ -2.1682563 ]\n",
      " [  3.45368   ]\n",
      " [ -0.725934  ]\n",
      " [  1.8362648 ]\n",
      " [  1.8162662 ]\n",
      " [ 16.570154  ]\n",
      " [  1.81943   ]\n",
      " [  1.6517586 ]\n",
      " [  1.3217169 ]\n",
      " [ -0.85521257]\n",
      " [ -1.8791287 ]\n",
      " [-11.087323  ]]\n",
      "epoch: 4 ,loss= 27.304076691877228 ,b= 15.066077 ,w= [[ -2.7220414 ]\n",
      " [  3.1623044 ]\n",
      " [ -0.780315  ]\n",
      " [  2.0275435 ]\n",
      " [  1.8592087 ]\n",
      " [ 18.52302   ]\n",
      " [  1.5513725 ]\n",
      " [  0.72486794]\n",
      " [  1.7741196 ]\n",
      " [ -1.1793777 ]\n",
      " [ -2.7646804 ]\n",
      " [-13.41945   ]]\n",
      "epoch: 5 ,loss= 25.48276211141382 ,b= 15.785826 ,w= [[ -3.228785  ]\n",
      " [  2.8411095 ]\n",
      " [ -0.7702844 ]\n",
      " [  2.0776935 ]\n",
      " [  1.789754  ]\n",
      " [ 19.919567  ]\n",
      " [  1.3353554 ]\n",
      " [ -0.14530979]\n",
      " [  2.1963558 ]\n",
      " [ -1.4470555 ]\n",
      " [ -3.3790812 ]\n",
      " [-15.206636  ]]\n"
     ]
    }
   ],
   "source": [
    "learning_rate=0.01\n",
    "loss_function=loss(x,y,w,b)\n",
    "optimizer=tf.train.GradientDescentOptimizer(learning_rate).minimize(loss_function)\n",
    "\n",
    "sess=tf.Session()\n",
    "init=tf.global_variables_initializer()\n",
    "sess.run(init)\n",
    "\n",
    "training_epochs=5\n",
    "for epoch in range(training_epochs):\n",
    "    loss_sum=0.0\n",
    "    for xs,ys in zip(x_data,y_data):\n",
    "        xs=xs.reshape(1,12)\n",
    "        ys=ys.reshape(1,1)\n",
    "        _,loss=sess.run([optimizer,loss_function],feed_dict={x:xs,y:ys})\n",
    "        loss_sum=loss_sum+loss\n",
    "\n",
    "    xvalues,yvalues=shuffle(x_data,y_data)\n",
    "    b0temp=b.eval(session=sess)\n",
    "    w0temp=w.eval(session=sess)\n",
    "    loss_average=loss_sum/len(y_data)\n",
    "    print('epoch:',epoch+1,',loss=',loss_average,',b=',b0temp,',w=',w0temp)"
   ]
  }
 ],
 "metadata": {
  "kernelspec": {
   "display_name": "Python 3.8.16 ('TensorFlow_2')",
   "language": "python",
   "name": "python3"
  },
  "language_info": {
   "codemirror_mode": {
    "name": "ipython",
    "version": 3
   },
   "file_extension": ".py",
   "mimetype": "text/x-python",
   "name": "python",
   "nbconvert_exporter": "python",
   "pygments_lexer": "ipython3",
   "version": "3.8.16"
  },
  "orig_nbformat": 4,
  "vscode": {
   "interpreter": {
    "hash": "eba1f01361cbcfebf806f3b68f7028338144b71e3783d6acf4b17241665e30f4"
   }
  }
 },
 "nbformat": 4,
 "nbformat_minor": 2
}
