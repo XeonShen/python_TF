{
 "cells": [
  {
   "cell_type": "code",
   "execution_count": 8,
   "metadata": {},
   "outputs": [],
   "source": [
    "import tensorflow.compat.v1 as tf\n",
    "tf.disable_eager_execution()\n",
    "import numpy as np\n",
    "import matplotlib.pyplot as plt\n",
    "import urllib.request\n",
    "import os\n",
    "import tarfile"
   ]
  },
  {
   "cell_type": "code",
   "execution_count": 10,
   "metadata": {},
   "outputs": [
    {
     "name": "stdout",
     "output_type": "stream",
     "text": [
      "extracted dataset been found!\n"
     ]
    }
   ],
   "source": [
    "dataset_url='https://www.cs.toronto.edu/~kriz/cifar-10-python.tar.gz'\n",
    "dataset_path='datasets/cifar-10.tar.gz'\n",
    "\n",
    "if not os.path.exists('datasets/cifar-10-batches-py'):\n",
    "    if not os.path.isfile(dataset_path):\n",
    "        result=urllib.request.urlretrieve(dataset_url,dataset_path)\n",
    "        print('compressed dataset does not exist, downloading it now:',result)\n",
    "        result=tarfile.open(dataset_path,'r:gz').extractall('datasets/')\n",
    "        print('dataset has not been extracted, extracting it now...')\n",
    "        os.remove(dataset_path)\n",
    "    else: \n",
    "        print(dataset_path,'compressed dataset found!')\n",
    "        result=tarfile.open(dataset_path,'r:gz').extractall('datasets/')\n",
    "        print('dataset has not been extracted, extracting it now...')\n",
    "        os.remove(dataset_path)\n",
    "else:\n",
    "    print('extracted dataset been found!')"
   ]
  },
  {
   "cell_type": "code",
   "execution_count": null,
   "metadata": {},
   "outputs": [],
   "source": []
  }
 ],
 "metadata": {
  "kernelspec": {
   "display_name": "Python 3.8.16 ('TensorFlow_2')",
   "language": "python",
   "name": "python3"
  },
  "language_info": {
   "codemirror_mode": {
    "name": "ipython",
    "version": 3
   },
   "file_extension": ".py",
   "mimetype": "text/x-python",
   "name": "python",
   "nbconvert_exporter": "python",
   "pygments_lexer": "ipython3",
   "version": "3.8.16"
  },
  "orig_nbformat": 4,
  "vscode": {
   "interpreter": {
    "hash": "eba1f01361cbcfebf806f3b68f7028338144b71e3783d6acf4b17241665e30f4"
   }
  }
 },
 "nbformat": 4,
 "nbformat_minor": 2
}
